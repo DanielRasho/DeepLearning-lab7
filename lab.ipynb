{
 "cells": [
  {
   "cell_type": "markdown",
   "id": "ccea999f",
   "metadata": {},
   "source": [
    "# Lab 7\n",
    "\n",
    "- Daniel Rayo 22933\n",
    "- Nombre carne\n",
    "- Nombre carne\n",
    "- Nombre carne"
   ]
  },
  {
   "cell_type": "code",
   "execution_count": 15,
   "id": "ebca4459",
   "metadata": {},
   "outputs": [],
   "source": [
    "import gymnasium as gym\n",
    "import numpy as np\n",
    "import torch\n",
    "import torch.nn as nn\n",
    "import torch.optim as optim\n",
    "import random\n",
    "from collections import deque, namedtuple\n",
    "from tqdm import tqdm\n",
    "import matplotlib.pyplot as plt\n",
    "import time"
   ]
  },
  {
   "cell_type": "code",
   "execution_count": 16,
   "id": "37e58587",
   "metadata": {},
   "outputs": [],
   "source": [
    "Experience = namedtuple('Experience', ['state', 'action', 'reward', 'next_state', 'done'])"
   ]
  },
  {
   "cell_type": "markdown",
   "id": "4903bf2c",
   "metadata": {},
   "source": [
    "## Red Neuronal"
   ]
  },
  {
   "cell_type": "markdown",
   "id": "80ee64a7",
   "metadata": {},
   "source": [
    "Se utilizo una rede neuronal totalmente conectada de 3 capas de 128 neuronas cada una. El objetivo de la red es poder predecir los *\"Quality values\"* (tambien llamados *Q-values*) asociados a cada acción que se puede tomar dado un contexto/estado actual."
   ]
  },
  {
   "cell_type": "code",
   "execution_count": 17,
   "id": "f48857a7",
   "metadata": {},
   "outputs": [],
   "source": [
    "class DQN(nn.Module):\n",
    "    \"\"\"Deep Q-Network architecture.\"\"\"\n",
    "    \n",
    "    def __init__(self, input_size, hidden_size, output_size):\n",
    "        super(DQN, self).__init__()\n",
    "        self.network = nn.Sequential(\n",
    "            nn.Linear(input_size, hidden_size),\n",
    "            nn.ReLU(),\n",
    "            nn.Linear(hidden_size, hidden_size),\n",
    "            nn.ReLU(),\n",
    "            nn.Linear(hidden_size, hidden_size),\n",
    "            nn.ReLU(),\n",
    "            nn.Linear(hidden_size, output_size)\n",
    "        )\n",
    "    \n",
    "    def forward(self, x):\n",
    "        return self.network(x)"
   ]
  },
  {
   "cell_type": "markdown",
   "id": "aa2828a5",
   "metadata": {},
   "source": [
    "## Replay Buffer"
   ]
  },
  {
   "cell_type": "markdown",
   "id": "40c07a6f",
   "metadata": {},
   "source": [
    "El replay buffer es una cola (una lista con una capacidad máxima, cuando se consigue la cantidad máxima, el primer elemento es desechado para agregar otro) que guarda un historial de las acciones pasadas tomadas en las diferentes situaciones vividas junto con la recompensa obtenida. \n",
    "\n",
    "Realmente la red neuronal no trabajara con los valores inmediatos dados por gymnasium, sino que usara el Replay Buffer como su dataset de entrada para poder entrenarse, esto permite a la red todavía iterar sobre ejemplos pasados, y evitar cometer los mismos errores. "
   ]
  },
  {
   "cell_type": "code",
   "execution_count": 2,
   "id": "7bb38f5b",
   "metadata": {},
   "outputs": [],
   "source": [
    "class ReplayBuffer:\n",
    "    \"\"\"Experience replay buffer for storing and sampling experiences.\"\"\"\n",
    "    \n",
    "    def __init__(self, capacity):\n",
    "        self.buffer = deque(maxlen=capacity)\n",
    "    \n",
    "    def push(self, state, action, reward, next_state, done):\n",
    "        \"\"\"Add experience to buffer.\"\"\"\n",
    "        experience = Experience(state, action, reward, next_state, done)\n",
    "        self.buffer.append(experience)\n",
    "    \n",
    "    def sample(self, batch_size):\n",
    "        \"\"\"Sample random batch of experiences.\"\"\"\n",
    "        return random.sample(self.buffer, batch_size)\n",
    "    \n",
    "    def __len__(self):\n",
    "        return len(self.buffer)"
   ]
  },
  {
   "cell_type": "markdown",
   "id": "474c4a64",
   "metadata": {},
   "source": [
    "## Agente"
   ]
  },
  {
   "cell_type": "code",
   "execution_count": null,
   "id": "e5c00fac",
   "metadata": {},
   "outputs": [],
   "source": [
    "class DQNAgent:\n",
    "    \"\"\"DQN Agent with online and target networks.\"\"\"\n",
    "    \n",
    "    def __init__(\n",
    "        self,\n",
    "        env,\n",
    "        learning_rate=0.001,\n",
    "        initial_epsilon=1.0,\n",
    "        epsilon_decay=0.995,\n",
    "        final_epsilon=0.01,\n",
    "        discount_factor=0.99,\n",
    "        buffer_capacity=10000,\n",
    "        batch_size=64,\n",
    "        target_update_frequency=100,\n",
    "        hidden_size=128\n",
    "    ):\n",
    "        \"\"\"Initialize DQN agent.\n",
    "        \n",
    "        Args:\n",
    "            env: Gymnasium environment\n",
    "            learning_rate: Learning rate for optimizer\n",
    "            initial_epsilon: Starting exploration rate\n",
    "            epsilon_decay: Decay factor for epsilon per episode\n",
    "            final_epsilon: Minimum exploration rate\n",
    "            discount_factor: Discount factor for future rewards\n",
    "            buffer_capacity: Size of experience replay buffer\n",
    "            batch_size: Number of experiences to sample for training\n",
    "            target_update_frequency: How often to update target network every 'n' episodes\n",
    "            hidden_size: Size of hidden layers in neural networks\n",
    "        \"\"\"\n",
    "        self.env = env\n",
    "        self.device = torch.device(\"cuda\" if torch.cuda.is_available() else \"cpu\")\n",
    "        print(f\"Using device: {self.device}\")\n",
    "        \n",
    "        # Get environment dimensions\n",
    "        self.state_size = env.observation_space.shape[0]\n",
    "        self.action_size = env.action_space.n\n",
    "        \n",
    "        # Create online and target networks\n",
    "        self.online_network = DQN(self.state_size, hidden_size, self.action_size).to(self.device)\n",
    "        self.target_network = DQN(self.state_size, hidden_size, self.action_size).to(self.device)\n",
    "        \n",
    "        # Initialize target network with same weights as online network\n",
    "        self.target_network.load_state_dict(self.online_network.state_dict())\n",
    "        self.target_network.eval()  # Target network is not trained directly\n",
    "        \n",
    "        # Optimizer and loss function for the online network\n",
    "        self.optimizer = optim.Adam(self.online_network.parameters(), lr=learning_rate)\n",
    "        self.criterion = nn.MSELoss()\n",
    "        \n",
    "        # Hyperparameters\n",
    "        self.discount_factor = discount_factor\n",
    "        self.batch_size = batch_size\n",
    "        self.target_update_frequency = target_update_frequency\n",
    "        \n",
    "        # Exploration parameters\n",
    "        self.epsilon = initial_epsilon\n",
    "        self.epsilon_decay = epsilon_decay\n",
    "        self.final_epsilon = final_epsilon\n",
    "        \n",
    "        # Experience replay buffer\n",
    "        self.replay_buffer = ReplayBuffer(buffer_capacity)\n",
    "        \n",
    "        # Training tracking\n",
    "        self.episode_count = 0\n",
    "        self.losses = []\n",
    "        self.episode_rewards = []\n",
    "    \n",
    "    def get_action(self, state):\n",
    "        \"\"\"Choose action using epsilon-greedy policy.\"\"\"\n",
    "        if random.random() < self.epsilon:\n",
    "            # Explore: random action\n",
    "            return self.env.action_space.sample()\n",
    "        else:\n",
    "            # Exploit: best action according to online network\n",
    "            with torch.no_grad():\n",
    "                # Let the network predict the Q-values for the current state\n",
    "                state_tensor = torch.FloatTensor(state).unsqueeze(0).to(self.device)\n",
    "                q_values = self.online_network(state_tensor)\n",
    "                # Choose the action with higher Q-value\n",
    "                return q_values.argmax().item()\n",
    "    \n",
    "    def store_experience(self, state, action, reward, next_state, done):\n",
    "        \"\"\"Store experience in replay buffer.\"\"\"\n",
    "        self.replay_buffer.push(state, action, reward, next_state, done)\n",
    "    \n",
    "    def train_step(self):\n",
    "        \"\"\"Perform one training step using experience replay.\"\"\"\n",
    "        if len(self.replay_buffer) < self.batch_size:\n",
    "            return\n",
    "        \n",
    "        # Sample batch from replay buffer\n",
    "        batch = self.replay_buffer.sample(self.batch_size)\n",
    "        \n",
    "        # Convert to tensors\n",
    "        states = torch.FloatTensor([exp.state for exp in batch]).to(self.device)\n",
    "        actions = torch.LongTensor([exp.action for exp in batch]).to(self.device)\n",
    "        rewards = torch.FloatTensor([exp.reward for exp in batch]).to(self.device)\n",
    "        next_states = torch.FloatTensor([exp.next_state for exp in batch]).to(self.device)\n",
    "        dones = torch.BoolTensor([exp.done for exp in batch]).to(self.device)\n",
    "        \n",
    "        # Let online network choose the action with hightest Q-value \n",
    "        # for each state of the batch.\n",
    "        current_q_values = self.online_network(states).gather(1, actions.unsqueeze(1))\n",
    "        \n",
    "        with torch.no_grad():\n",
    "            # Let target_network predict the q-values for each action in the next states.\n",
    "            next_q_values = self.target_network(next_states).max(1)[0]\n",
    "            # Use the predictions from the line above, to calculate the actual expected q-values\n",
    "            # that the online-network should've predicted.\n",
    "            # using Bellman equation\n",
    "            target_q_values = rewards + (self.discount_factor * next_q_values * ~dones)\n",
    "        \n",
    "        # Compute loss and update online network\n",
    "        loss = self.criterion(current_q_values.squeeze(), target_q_values)\n",
    "        \n",
    "        self.optimizer.zero_grad()\n",
    "        loss.backward()\n",
    "        self.optimizer.step()\n",
    "        \n",
    "        self.losses.append(loss.item())\n",
    "    \n",
    "    def update_target_network(self):\n",
    "        \"\"\"Copy weights from online network to target network.\"\"\"\n",
    "        self.target_network.load_state_dict(self.online_network.state_dict())\n",
    "    \n",
    "    def decay_epsilon(self):\n",
    "        \"\"\"Decay exploration rate.\"\"\"\n",
    "        self.epsilon = max(self.final_epsilon, self.epsilon * self.epsilon_decay)\n",
    "    \n",
    "    def train(self, n_episodes):\n",
    "        \"\"\"Train the agent for specified number of episodes.\"\"\"\n",
    "        print(f\"Training DQN agent for {n_episodes} episodes...\")\n",
    "        \n",
    "        for episode in tqdm(range(n_episodes), desc=\"Training\"):\n",
    "            state, _ = self.env.reset()\n",
    "            episode_reward = 0\n",
    "            done = False\n",
    "            \n",
    "            while not done:\n",
    "                # Choose and take action\n",
    "                action = self.get_action(state)\n",
    "                next_state, reward, terminated, truncated, _ = self.env.step(action)\n",
    "                done = terminated or truncated\n",
    "                \n",
    "                # Store experience\n",
    "                self.store_experience(state, action, reward, next_state, done)\n",
    "                \n",
    "                # Train the network\n",
    "                self.train_step()\n",
    "                \n",
    "                episode_reward += reward\n",
    "                state = next_state\n",
    "            \n",
    "            # Update target network periodically\n",
    "            if episode % self.target_update_frequency == 0:\n",
    "                self.update_target_network()\n",
    "            \n",
    "            # Decay exploration rate\n",
    "            self.decay_epsilon()\n",
    "            \n",
    "            # Track progress (for plotting learning rate latter)\n",
    "            self.episode_rewards.append(episode_reward)\n",
    "            self.episode_count += 1\n",
    "            \n",
    "            # Print progress every 100 episodes\n",
    "            if episode % 100 == 0:\n",
    "                avg_reward = np.mean(self.episode_rewards[-100:])\n",
    "                print(f\"Episode {episode}, Average Reward: {avg_reward:.2f}, Epsilon: {self.epsilon:.3f}\")"
   ]
  },
  {
   "cell_type": "markdown",
   "id": "cb7b33fe",
   "metadata": {},
   "source": [
    "### Función de testeo"
   ]
  },
  {
   "cell_type": "code",
   "execution_count": null,
   "id": "dce1abcb",
   "metadata": {},
   "outputs": [],
   "source": [
    "def test_agent(agent, env, num_episodes=100, render=False):\n",
    "    \"\"\"Test the trained agent.\"\"\"\n",
    "    print(f\"\\nTesting agent for {num_episodes} episodes...\")\n",
    "    \n",
    "    # Disable exploration for testing\n",
    "    old_epsilon = agent.epsilon\n",
    "    agent.epsilon = 0.0\n",
    "    \n",
    "    test_rewards = []\n",
    "    \n",
    "    for episode in range(num_episodes):\n",
    "        state, _ = env.reset()\n",
    "        episode_reward = 0\n",
    "        done = False\n",
    "        \n",
    "        while not done:\n",
    "            action = agent.get_action(state)\n",
    "            state, reward, terminated, truncated, _ = env.step(action)\n",
    "            done = terminated or truncated\n",
    "            episode_reward += reward\n",
    "        \n",
    "        test_rewards.append(episode_reward)\n",
    "    \n",
    "    # Restore epsilon\n",
    "    agent.epsilon = old_epsilon\n",
    "    \n",
    "    # Print results\n",
    "    avg_reward = np.mean(test_rewards)\n",
    "    std_reward = np.std(test_rewards)\n",
    "    max_reward = np.max(test_rewards)\n",
    "    \n",
    "    print(f\"Test Results:\")\n",
    "    print(f\"Average Reward: {avg_reward:.2f} ± {std_reward:.2f}\")\n",
    "    print(f\"Max Reward: {max_reward}\")\n",
    "    print(f\"Success Rate (>195): {np.mean(np.array(test_rewards) > 195):.1%}\")\n",
    "    \n",
    "    return test_rewards"
   ]
  },
  {
   "cell_type": "code",
   "execution_count": 21,
   "id": "2287a0eb",
   "metadata": {},
   "outputs": [],
   "source": [
    "def plot_training_progress(agent):\n",
    "    \"\"\"Plot training progress.\"\"\"\n",
    "    fig, (ax1, ax2) = plt.subplots(1, 2, figsize=(12, 4))\n",
    "    \n",
    "    # Plot episode rewards\n",
    "    ax1.plot(agent.episode_rewards)\n",
    "    ax1.set_title('Episode Rewards')\n",
    "    ax1.set_xlabel('Episode')\n",
    "    ax1.set_ylabel('Reward')\n",
    "    ax1.grid(True)\n",
    "    \n",
    "    # Plot moving average of rewards\n",
    "    if len(agent.episode_rewards) >= 100:\n",
    "        moving_avg = np.convolve(agent.episode_rewards, np.ones(100)/100, mode='valid')\n",
    "        ax1.plot(range(99, len(agent.episode_rewards)), moving_avg, color='red', label='100-episode average')\n",
    "        ax1.legend()\n",
    "    \n",
    "    # Plot training losses\n",
    "    if agent.losses:\n",
    "        ax2.plot(agent.losses)\n",
    "        ax2.set_title('Training Loss')\n",
    "        ax2.set_xlabel('Training Step')\n",
    "        ax2.set_ylabel('Loss')\n",
    "        ax2.grid(True)\n",
    "    \n",
    "    plt.tight_layout()\n",
    "    plt.show()"
   ]
  },
  {
   "cell_type": "markdown",
   "id": "37c38529",
   "metadata": {},
   "source": [
    "### Entrenamiento del agente"
   ]
  },
  {
   "cell_type": "code",
   "execution_count": 22,
   "id": "c438093b",
   "metadata": {},
   "outputs": [
    {
     "name": "stdout",
     "output_type": "stream",
     "text": [
      "Using device: cuda\n",
      "Training DQN agent for 2000 episodes...\n"
     ]
    },
    {
     "name": "stderr",
     "output_type": "stream",
     "text": [
      "Training:   0%|          | 6/2000 [00:00<00:37, 53.13it/s]"
     ]
    },
    {
     "name": "stdout",
     "output_type": "stream",
     "text": [
      "Episode 0, Average Reward: 14.00, Epsilon: 0.995\n"
     ]
    },
    {
     "name": "stderr",
     "output_type": "stream",
     "text": [
      "Training:   5%|▌         | 104/2000 [00:04<01:17, 24.43it/s]"
     ]
    },
    {
     "name": "stdout",
     "output_type": "stream",
     "text": [
      "Episode 100, Average Reward: 16.32, Epsilon: 0.603\n"
     ]
    },
    {
     "name": "stderr",
     "output_type": "stream",
     "text": [
      "Training:  10%|█         | 204/2000 [00:09<01:08, 26.06it/s]"
     ]
    },
    {
     "name": "stdout",
     "output_type": "stream",
     "text": [
      "Episode 200, Average Reward: 17.18, Epsilon: 0.365\n"
     ]
    },
    {
     "name": "stderr",
     "output_type": "stream",
     "text": [
      "Training:  15%|█▌        | 303/2000 [00:13<01:18, 21.50it/s]"
     ]
    },
    {
     "name": "stdout",
     "output_type": "stream",
     "text": [
      "Episode 300, Average Reward: 16.77, Epsilon: 0.221\n"
     ]
    },
    {
     "name": "stderr",
     "output_type": "stream",
     "text": [
      "Training:  20%|█▉        | 399/2000 [00:25<03:16,  8.14it/s]"
     ]
    },
    {
     "name": "stdout",
     "output_type": "stream",
     "text": [
      "Episode 400, Average Reward: 39.23, Epsilon: 0.134\n"
     ]
    },
    {
     "name": "stderr",
     "output_type": "stream",
     "text": [
      "Training:  25%|██▌       | 502/2000 [00:50<05:01,  4.97it/s]"
     ]
    },
    {
     "name": "stdout",
     "output_type": "stream",
     "text": [
      "Episode 500, Average Reward: 87.08, Epsilon: 0.081\n"
     ]
    },
    {
     "name": "stderr",
     "output_type": "stream",
     "text": [
      "Training:  30%|███       | 601/2000 [01:31<07:50,  2.98it/s]"
     ]
    },
    {
     "name": "stdout",
     "output_type": "stream",
     "text": [
      "Episode 600, Average Reward: 134.05, Epsilon: 0.049\n"
     ]
    },
    {
     "name": "stderr",
     "output_type": "stream",
     "text": [
      "Training:  35%|███▌      | 701/2000 [02:30<13:37,  1.59it/s]"
     ]
    },
    {
     "name": "stdout",
     "output_type": "stream",
     "text": [
      "Episode 700, Average Reward: 190.74, Epsilon: 0.030\n"
     ]
    },
    {
     "name": "stderr",
     "output_type": "stream",
     "text": [
      "Training:  40%|████      | 801/2000 [03:30<12:10,  1.64it/s]"
     ]
    },
    {
     "name": "stdout",
     "output_type": "stream",
     "text": [
      "Episode 800, Average Reward: 184.74, Epsilon: 0.018\n"
     ]
    },
    {
     "name": "stderr",
     "output_type": "stream",
     "text": [
      "Training:  45%|████▌     | 904/2000 [03:50<01:53,  9.65it/s]"
     ]
    },
    {
     "name": "stdout",
     "output_type": "stream",
     "text": [
      "Episode 900, Average Reward: 60.88, Epsilon: 0.011\n"
     ]
    },
    {
     "name": "stderr",
     "output_type": "stream",
     "text": [
      "Training:  50%|█████     | 1001/2000 [04:17<06:30,  2.56it/s]"
     ]
    },
    {
     "name": "stdout",
     "output_type": "stream",
     "text": [
      "Episode 1000, Average Reward: 88.94, Epsilon: 0.010\n"
     ]
    },
    {
     "name": "stderr",
     "output_type": "stream",
     "text": [
      "Training:  55%|█████▌    | 1102/2000 [04:40<01:37,  9.19it/s]"
     ]
    },
    {
     "name": "stdout",
     "output_type": "stream",
     "text": [
      "Episode 1100, Average Reward: 66.73, Epsilon: 0.010\n"
     ]
    },
    {
     "name": "stderr",
     "output_type": "stream",
     "text": [
      "Training:  60%|██████    | 1201/2000 [05:17<06:08,  2.17it/s]"
     ]
    },
    {
     "name": "stdout",
     "output_type": "stream",
     "text": [
      "Episode 1200, Average Reward: 114.63, Epsilon: 0.010\n"
     ]
    },
    {
     "name": "stderr",
     "output_type": "stream",
     "text": [
      "Training:  65%|██████▌   | 1301/2000 [06:35<08:00,  1.46it/s]"
     ]
    },
    {
     "name": "stdout",
     "output_type": "stream",
     "text": [
      "Episode 1300, Average Reward: 239.02, Epsilon: 0.010\n"
     ]
    },
    {
     "name": "stderr",
     "output_type": "stream",
     "text": [
      "Training:  70%|███████   | 1401/2000 [07:37<05:53,  1.70it/s]"
     ]
    },
    {
     "name": "stdout",
     "output_type": "stream",
     "text": [
      "Episode 1400, Average Reward: 185.51, Epsilon: 0.010\n"
     ]
    },
    {
     "name": "stderr",
     "output_type": "stream",
     "text": [
      "Training:  75%|███████▌  | 1501/2000 [08:10<01:44,  4.77it/s]"
     ]
    },
    {
     "name": "stdout",
     "output_type": "stream",
     "text": [
      "Episode 1500, Average Reward: 103.19, Epsilon: 0.010\n"
     ]
    },
    {
     "name": "stderr",
     "output_type": "stream",
     "text": [
      "Training:  80%|████████  | 1601/2000 [09:39<06:44,  1.01s/it]"
     ]
    },
    {
     "name": "stdout",
     "output_type": "stream",
     "text": [
      "Episode 1600, Average Reward: 277.72, Epsilon: 0.010\n"
     ]
    },
    {
     "name": "stderr",
     "output_type": "stream",
     "text": [
      "Training:  85%|████████▌ | 1701/2000 [11:43<02:00,  2.49it/s]"
     ]
    },
    {
     "name": "stdout",
     "output_type": "stream",
     "text": [
      "Episode 1700, Average Reward: 375.35, Epsilon: 0.010\n"
     ]
    },
    {
     "name": "stderr",
     "output_type": "stream",
     "text": [
      "Training:  90%|█████████ | 1801/2000 [12:45<01:35,  2.08it/s]"
     ]
    },
    {
     "name": "stdout",
     "output_type": "stream",
     "text": [
      "Episode 1800, Average Reward: 190.38, Epsilon: 0.010\n"
     ]
    },
    {
     "name": "stderr",
     "output_type": "stream",
     "text": [
      "Training:  95%|█████████▌| 1901/2000 [13:54<00:53,  1.85it/s]"
     ]
    },
    {
     "name": "stdout",
     "output_type": "stream",
     "text": [
      "Episode 1900, Average Reward: 211.87, Epsilon: 0.010\n"
     ]
    },
    {
     "name": "stderr",
     "output_type": "stream",
     "text": [
      "Training: 100%|██████████| 2000/2000 [15:08<00:00,  2.20it/s]\n"
     ]
    },
    {
     "name": "stdout",
     "output_type": "stream",
     "text": [
      "\n",
      "Testing agent for 100 episodes...\n",
      "Test Results:\n",
      "Average Reward: 212.64 ± 170.44\n",
      "Max Reward: 500.0\n",
      "Success Rate (>195): 32.0%\n"
     ]
    },
    {
     "data": {
      "image/png": "[encoded data removed]",
      "text/plain": [
       "<Figure size 1200x400 with 2 Axes>"
      ]
     },
     "metadata": {},
     "output_type": "display_data"
    }
   ],
   "source": [
    "# Create CartPole environment\n",
    "env = gym.make('CartPole-v1')\n",
    "\n",
    "# Create and train agent\n",
    "agent = DQNAgent(\n",
    "    env=env,\n",
    "    learning_rate=0.001,\n",
    "    initial_epsilon=1.0,\n",
    "    epsilon_decay=0.995,\n",
    "    final_epsilon=0.01,\n",
    "    discount_factor=0.99,\n",
    "    buffer_capacity=10000,\n",
    "    batch_size=64,\n",
    "    target_update_frequency=100,\n",
    "    hidden_size=128\n",
    ")\n",
    "\n",
    "# Train the agent\n",
    "n_episodes = 2000\n",
    "agent.train(n_episodes)\n",
    "\n",
    "# Test the trained agent\n",
    "test_rewards = test_agent(agent, env, num_episodes=100)\n",
    "\n",
    "# Plot results\n",
    "plot_training_progress(agent)\n",
    "\n",
    "# Close environment\n",
    "env.close()"
   ]
  },
  {
   "cell_type": "markdown",
   "id": "a1dc5b8c",
   "metadata": {},
   "source": [
    "### Demo del agente"
   ]
  },
  {
   "cell_type": "code",
   "execution_count": 23,
   "id": "dd7dd433",
   "metadata": {},
   "outputs": [],
   "source": [
    "def visualize_agent(agent, num_episodes=5):\n",
    "    \"\"\"Visualize the trained agent playing CartPole with graphical interface.\"\"\"\n",
    "    print(f\"\\nVisualizing agent for {num_episodes} episodes...\")\n",
    "    print(\"Close the window to stop visualization.\")\n",
    "    \n",
    "    # Create environment with human rendering\n",
    "    vis_env = gym.make('CartPole-v1', render_mode='human')\n",
    "    \n",
    "    # Disable exploration for visualization\n",
    "    old_epsilon = agent.epsilon\n",
    "    agent.epsilon = 0.0\n",
    "    \n",
    "    try:\n",
    "        for episode in range(num_episodes):\n",
    "            state, _ = vis_env.reset()\n",
    "            episode_reward = 0\n",
    "            step_count = 0\n",
    "            done = False\n",
    "            \n",
    "            print(f\"\\nEpisode {episode + 1}:\")\n",
    "            \n",
    "            while not done:\n",
    "                # Get action from trained agent\n",
    "                action = agent.get_action(state)\n",
    "                \n",
    "                # Take action and render\n",
    "                state, reward, terminated, truncated, _ = vis_env.step(action)\n",
    "                done = terminated or truncated\n",
    "                episode_reward += reward\n",
    "                step_count += 1\n",
    "                \n",
    "                # Add small delay to make visualization watchable\n",
    "                time.sleep(0.02)  # 50 FPS\n",
    "            \n",
    "            print(f\"  Steps survived: {step_count}\")\n",
    "            print(f\"  Total reward: {episode_reward}\")\n",
    "            \n",
    "            # Pause between episodes\n",
    "            if episode < num_episodes - 1:\n",
    "                print(\"  Starting next episode in 2 seconds...\")\n",
    "                time.sleep(2)\n",
    "    \n",
    "    except KeyboardInterrupt:\n",
    "        print(\"\\nVisualization stopped by user.\")\n",
    "    \n",
    "    finally:\n",
    "        # Restore epsilon and close environment\n",
    "        agent.epsilon = old_epsilon\n",
    "        vis_env.close()"
   ]
  },
  {
   "cell_type": "code",
   "execution_count": 24,
   "id": "5330c10a",
   "metadata": {},
   "outputs": [
    {
     "name": "stdout",
     "output_type": "stream",
     "text": [
      "\n",
      "Visualizing agent for 3 episodes...\n",
      "Close the window to stop visualization.\n",
      "\n",
      "Episode 1:\n",
      "  Steps survived: 63\n",
      "  Total reward: 63.0\n",
      "  Starting next episode in 2 seconds...\n",
      "\n",
      "Episode 2:\n",
      "  Steps survived: 500\n",
      "  Total reward: 500.0\n",
      "  Starting next episode in 2 seconds...\n",
      "\n",
      "Episode 3:\n",
      "  Steps survived: 59\n",
      "  Total reward: 59.0\n"
     ]
    }
   ],
   "source": [
    "try:\n",
    "    visualize_agent(agent, num_episodes=3)\n",
    "except Exception as e:\n",
    "    print(f\"Visualization failed (this is normal in headless environments): {e}\")\n",
    "    print(\"To see visualization, run this on a system with display capabilities.\")"
   ]
  }
 ],
 "metadata": {
  "kernelspec": {
   "display_name": ".venv",
   "language": "python",
   "name": "python3"
  },
  "language_info": {
   "codemirror_mode": {
    "name": "ipython",
    "version": 3
   },
   "file_extension": ".py",
   "mimetype": "text/x-python",
   "name": "python",
   "nbconvert_exporter": "python",
   "pygments_lexer": "ipython3",
   "version": "3.13.7"
  }
 },
 "nbformat": 4,
 "nbformat_minor": 5
}
